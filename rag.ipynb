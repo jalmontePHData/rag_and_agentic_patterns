{
 "cells": [
  {
   "cell_type": "markdown",
   "metadata": {},
   "source": [
    "# RAG and Agentic Patterns at phData"
   ]
  },
  {
   "cell_type": "markdown",
   "metadata": {},
   "source": [
    "## What is RAG?\n",
    "\n",
    "**RAG (Retrieval-Augmented Generation)** is an AI technique that combines retrieval of relevant information with generative models to produce more context-aware and accurate responses. Unlike traditional generative AI models that rely solely on the knowledge encoded during training, RAG leverages external knowledge sources, such as databases, document stores, or knowledge bases, to provide up-to-date information, improving the quality and relevance of responses. Leveraging structured or semi-structured **knowledge bases** can help create a more targeted RAG solution. In our example we have been using Wikipedia.\n",
    "\n",
    "In a RAG workflow, the generative model interacts with a retriever that fetches relevant documents or data based on a user's query. These retrieved items are then used as context to generate a final response. This approach allows the generative AI to generate answers that are both informed by the latest knowledge and tailored to the user's question."
   ]
  },
  {
   "cell_type": "markdown",
   "metadata": {},
   "source": [
    "## Why RAG?\n",
    "\n",
    "RAG is useful for a wide range of scenarios because it combines the benefits of generative language models with the ability to reference up-to-date, external information. Here are some key reasons why RAG is beneficial:\n",
    "\n",
    "1. **Enhanced Accuracy**: Improves the factual accuracy of the generated responses, making it ideal for dynamic industries or domains where the knowledge base is constantly changing. For instance, in legal or medical fields, where new information is regularly updated, RAG ensures that generated responses reflect the most current and reliable data.\n",
    "\n",
    "2. **Personalization**: Retrieval can be tailored to individual users, allowing the AI to generate more personalized content by retrieving documents relevant to a user's history or preferences. In customer service, for example, RAG can be used to retrieve past interactions and provide customized responses that improve user experience.\n",
    "\n",
    "3. **Domain Specificity**: Leverage domain-specific knowledge bases, providing detailed, accurate answers that are particularly useful for specialized fields like medicine, law, and finance. By accessing curated knowledge bases or internal documentation, the generative model can provide domain-specific responses that would not be possible with a general model.\n",
    "\n",
    "4. **Reduced Hallucination**: Generative models sometimes \"hallucinate\" and produce incorrect facts. RAG mitigates this by grounding generation in real, retrieved content, reducing the likelihood of incorrect or misleading information. This grounding mechanism is critical in high-stakes scenarios where misinformation can lead to significant consequences.\n"
   ]
  },
  {
   "cell_type": "markdown",
   "metadata": {},
   "source": [
    "## When to Use RAG?\n",
    "\n",
    "RAG is particularly useful in the following situations:\n",
    "\n",
    "1. **Dynamic Knowledge Requirements**: When the knowledge required to answer a question is constantly changing or being updated, such as in news, legal, or medical information.\n",
    "\n",
    "2. **Complex Queries**: When answering complex or multi-faceted queries that require synthesizing information from multiple sources.\n",
    "\n",
    "3. **Highly Specialized Domains**: When the domain of the question is highly specialized, such as industry-specific customer support, technical documentation, or research, where relying solely on a pre-trained model may not suffice.\n",
    "\n",
    "4. **Customer Service**: When personalization and context are required to provide accurate, user-specific responses in customer support or chatbots."
   ]
  },
  {
   "cell_type": "markdown",
   "metadata": {},
   "source": [
    "## When Not to Use RAG?\n",
    "\n",
    "While RAG is a powerful approach, it isn't always the best fit for every problem. Some situations where RAG might not be useful include:\n",
    "\n",
    "1. **Purely Creative Content**: If the task is focused purely on creative storytelling or generating novel content without strict factual requirements, a traditional generative model without retrieval might be more suitable. For instance, writing a fictional story or creating poetry can benefit from the model's inherent creativity without the need for external references.\n",
    "\n",
    "2. **Simple Queries**: For straightforward queries that require factual answers readily available in the language model's pre-trained dataset, adding retrieval can add unnecessary complexity. For example, questions like \"What is the capital of France?\" can be directly answered by a pre-trained model without the need for a retrieval step.\n",
    "\n",
    "3. **Real-Time Interaction**: RAG can add latency due to the retrieval process. If the application requires near-instantaneous responses, such as in chatbots where response time is crucial to user satisfaction, RAG may introduce delays that impact the user experience."
   ]
  },
  {
   "cell_type": "markdown",
   "metadata": {},
   "source": [
    "---\n",
    "## Demo: Using DSPY and Langchain to answer queries augumented by Wikipedia"
   ]
  },
  {
   "cell_type": "markdown",
   "metadata": {},
   "source": [
    "Before we begin we need to setup our environment.  \n",
    "- In our example we are using an [Ollama](https://ollama.com/) to serve the LLM model.  \n",
    "- For the \"Advanced Techiniques\" section we use redis so be sure to setup a local [Redis](https://redis.io/docs/latest/operate/oss_and_stack/install/install-redis/) server. "
   ]
  },
  {
   "cell_type": "markdown",
   "metadata": {},
   "source": [
    "``` yaml\n",
    "services:\n",
    "  redis:\n",
    "    image: docker.io/redis/redis-stack-server:latest\n",
    "    container_name: redis\n",
    "    restart: always\n",
    "    ports:\n",
    "      - \"6379:6379\"\n",
    "```"
   ]
  },
  {
   "cell_type": "markdown",
   "metadata": {},
   "source": [
    "**Question Of Interest**"
   ]
  },
  {
   "cell_type": "code",
   "execution_count": 1,
   "metadata": {},
   "outputs": [],
   "source": [
    "question = \"Which team won the MLB World Series in 2024?\""
   ]
  },
  {
   "cell_type": "markdown",
   "metadata": {},
   "source": [
    "Let's dive into a practical example where we use DSPY and Langchain to set up a RAG pattern for retrieving information from Wikipedia.\n",
    "\n",
    "This code snippet below is creating a system where the model will be fed a question and context, and it will return an answer based on the context provided. The dspy library facilitates the management of inputs and outputs, while the model is used to generate the answer."
   ]
  },
  {
   "cell_type": "code",
   "execution_count": 3,
   "metadata": {},
   "outputs": [],
   "source": [
    "import dspy\n",
    "\n",
    "lm = dspy.LM('ollama_chat/llama3.2', api_base='http://localhost:11434', api_key='')\n",
    "dspy.configure(lm=lm)\n",
    "\n",
    "\n",
    "class QuestionAndAnswer(dspy.Signature):\n",
    "    \"\"\"\n",
    "    You are a helpful assistant that answers general questions\n",
    "    You will be provided a question and context \n",
    "\n",
    "    **Fields**:\n",
    "    - `question`: The question  from the user.\n",
    "    - `context`: The context provided to help answer the question.\n",
    "    - `answer`: Response to the question\n",
    "    \"\"\"\n",
    "\n",
    "    question = dspy.InputField(desc=\"The question being asked.\")\n",
    "    context = dspy.InputField(desc=\"The context provided to generate an accurate answer.\")\n",
    "    answer = dspy.OutputField(desc=\"Concise reasoning or justification for the answer provided.\")"
   ]
  },
  {
   "cell_type": "markdown",
   "metadata": {},
   "source": [
    "Let's try and see how our LLM responds without any extra context and just relying on its trained data.\n"
   ]
  },
  {
   "cell_type": "markdown",
   "metadata": {},
   "source": [
    "**Inference With No Context**"
   ]
  },
  {
   "cell_type": "code",
   "execution_count": 4,
   "metadata": {},
   "outputs": [
    {
     "name": "stdout",
     "output_type": "stream",
     "text": [
      "Context Length: 0\n",
      "=== LLM Inference === \n",
      "I don't have information about future events, including the outcome of the 2024 MLB World Series. The answer will be provided once the event has occurred.\n"
     ]
    }
   ],
   "source": [
    "# No Context\n",
    "answer = dspy.Predict(QuestionAndAnswer)\n",
    "\n",
    "with dspy.context(lm=lm):\n",
    "\n",
    "    inference = answer(\n",
    "        question=question,\n",
    "        context = \"\"\n",
    "    )\n",
    "\n",
    "print(f\"Context Length: {len(\"\")}\")\n",
    "print(f\"=== LLM Inference === \\n{inference.answer}\")"
   ]
  },
  {
   "cell_type": "markdown",
   "metadata": {},
   "source": [
    "The output shows that the LLM cannot answer this question, which makes sense. Typically the whole training process takes a long time, and it's not uncommon for the training data to be two years out of date for any given LLM\n",
    "\n",
    "Next step is to query the information needed and prepare to pass it as an input to our LLM.  "
   ]
  },
  {
   "cell_type": "markdown",
   "metadata": {},
   "source": [
    "**Query From Wikipedia**"
   ]
  },
  {
   "cell_type": "markdown",
   "metadata": {},
   "source": [
    "In this code snippet we are using langchaing_community's WikipediaLoader to load a specific amount of documents from Wikipedia based on a query.\n",
    "The print statement reassures us that we collected the correct information."
   ]
  },
  {
   "cell_type": "code",
   "execution_count": 5,
   "metadata": {},
   "outputs": [
    {
     "name": "stdout",
     "output_type": "stream",
     "text": [
      "[Document(metadata={'title': '2024 World Series', 'summary': \"The 2024 World Series was the championship series of Major League Baseball's (MLB) 2024 season. The 120th edition of the World Series, it was a best-of-seven playoff between the National League (NL) champion Los Angeles Dodgers and the American League (AL) champion New York Yankees. It was the Dodgers' first World Series appearance and win since 2020, and the Yankees' first World Series appearance since 2009. The series began on October 25 and ended on October 30 with the Dodgers winning in five games. Freddie Freeman was named the MVP of the series, tying a World Series record with 12 runs batted in (RBIs) while hitting home runs in the first four games of the series, including the first walk-off grand slam in World Series history in Game 1.\\nThe Dodgers and Yankees entered the 2024 MLB postseason as the top seeds in their respective leagues. The Dodgers had home-field advantage in the series due to their better regular season win-loss record. It was the 12th time in the Dodgers–Yankees rivalry that the teams have met in the World Series, but only the first instance since 1981. The teams had previously faced each other at least once per decade from the 1940s through the 1980s. The Yankees held a 6–1 edge in the World Series rivalry during the Brooklyn Dodgers/Subway Series era, and the teams were 2–2 following the Dodgers' relocation to Los Angeles. In their 2024 World Series meeting, the Dodgers took a 3–0 series lead before losing Game 4 in New York. They would win their eighth World Series title the next day, coming back from a 5–0 deficit, a record for most runs to come from behind in a World Series clinching game.\", 'source': 'https://en.wikipedia.org/wiki/2024_World_Series'}, page_content='The 2024 World Series was the championship series of Major League Baseball\\'s (MLB) 2024 season. The 120th edition of the World Series, it was a best-of-seven playoff between the National League (NL) champion Los Angeles Dodgers and the American League (AL) champion New York Yankees. It was the Dodgers\\' first World Series appearance and win since 2020, and the Yankees\\' first World Series appearance since 2009. The series began on October 25 and ended on October 30 with the Dodgers winning in five games. Freddie Freeman was named the MVP of the series, tying a World Series record with 12 runs batted in (RBIs) while hitting home runs in the first four games of the series, including the first walk-off grand slam in World Series history in Game 1.\\nThe Dodgers and Yankees entered the 2024 MLB postseason as the top seeds in their respective leagues. The Dodgers had home-field advantage in the series due to their better regular season win-loss record. It was the 12th time in the Dodgers–Yankees rivalry that the teams have met in the World Series, but only the first instance since 1981. The teams had previously faced each other at least once per decade from the 1940s through the 1980s. The Yankees held a 6–1 edge in the World Series rivalry during the Brooklyn Dodgers/Subway Series era, and the teams were 2–2 following the Dodgers\\' relocation to Los Angeles. In their 2024 World Series meeting, the Dodgers took a 3–0 series lead before losing Game 4 in New York. They would win their eighth World Series title the next day, coming back from a 5–0 deficit, a record for most runs to come from behind in a World Series clinching game.\\n\\n\\n== Background ==\\n\\nThis series marked the twelfth World Series meeting between the Dodgers and Yankees and the first since 1981. It was also the thirteenth meeting between teams from New York City and Los Angeles for a major professional sports championship. This previously happened in four World Series (1963, 1977, 1978, 1981), three NBA Finals (1970, 1972, and 1973) and the 2014 Stanley Cup Finals. Following the 2024 World Series, LA teams held a five to four advantage over New York City teams in terms of championship matchups between the two cities.\\nAdditionally, this World Series was contested between the two eventual winners of the most valuable player (MVP) awards in their respective leagues: Aaron Judge of the Yankees and Shohei Ohtani of the Dodgers. This was the first World Series since 2012 (when Buster Posey of the San Francisco Giants faced Miguel Cabrera of the Detroit Tigers) to feature the two league MVPs from that season. Judge won the American League (AL) MVP Award in 2022, while Ohtani won two AL MVP awards unanimously with the Los Angeles Angels in 2021 and 2023. During the 2024 regular season, Judge hit 58 home runs while Ohtani hit 54 during his 50–50 season, meaning that this is the first time in Major League Baseball history that two batters who hit 50 home runs in the same regular season are playing against each other in the World Series. Because of the renewal of the rivalry between the two storied franchises, and the World Series debuts of both Ohtani and Judge, many regarded the matchup as a \"dream\" World Series in the lead-up to the event.\\nThe Dodgers won a three-game series against the Yankees in June in New York, winning the first two games before dropping the finale, though Juan Soto did not appear in the series.\\nThis was the first World Series to feature the teams with the best record in each league since the 2020 World Series. This was just the fifth time in the Wild Card era (1995–present) where both teams with the best record in each league faced each other in the World Series.\\n\\n\\n=== Los Angeles Dodgers ===\\n\\nAfter back-to-back upset losses to division rivals in the postseason in 2022 and 2023, the Dodgers looked to reshape their roster. In the off-season, they signed superstar two-way player Shohei Ohtani to a record $700 million, 10 year contract. Other big additions were sig'), Document(metadata={'title': 'List of World Series champions', 'summary': 'The World Series is the annual championship series of Major League Baseball (MLB) and concludes the MLB postseason. First played in 1903, the World Series championship is a best-of-seven playoff and is a contest between the champions of baseball\\'s National League (NL) and American League (AL). Often referred to as the \"Fall Classic\", the modern World Series has been played every year since 1903 with two exceptions: in 1904, when the NL champion New York Giants declined to play the AL champion Boston Americans; and in 1994, when the series was canceled due to the players\\' strike. The best-of-seven style has been the format of all World Series except in 1903, 1919, 1920, 1921, when the winner was determined through a best-of-nine playoff. Although the large majority of contests have been played entirely during the month of October, a small number of Series have also had games played during September and November. The Series-winning team is awarded the Commissioner\\'s Trophy. Players, coaches and others associated with the team are generally given World Series rings to commemorate their victory; however, they have received other items such as pocket watches and medallions in the past. The winning team is traditionally invited to the White House to meet the President of the United States.\\nA total of 120 World Series have been contested through 2024, with the AL champion winning 68 and the NL champion winning 52. The New York Yankees of the AL have played in 41 World Series, winning 27 – the most championship appearances and most victories by any MLB team. The Dodgers and the Yankees are tied for the most losses with 14 each. The St. Louis Cardinals have won 11 championships, the most among NL clubs and second-most all-time behind the Yankees. The Dodgers have represented the NL the most in the World Series with 22 appearances. The Seattle Mariners are the only MLB franchise that has never appeared in a World Series; the Milwaukee Brewers, San Diego Padres, Tampa Bay Rays, and Colorado Rockies have all played in the Series but have never won it, with the Padres and the Rays appearing twice. The Los Angeles Angels and Washington Nationals are the only teams who have won their only World Series appearance, and the Toronto Blue Jays and Miami Marlins are the only teams with multiple World Series appearances with no losses. The Toronto Blue Jays are the only franchise from outside the United States to appear in and win a World Series, winning in 1992 and 1993. The Houston Astros are the only franchise to have represented both the NL (2005) and the AL (2017, 2019, 2021, 2022), winning the Series in 2017 and 2022.  The 1919 and 2017 World Series were both marred with cheating scandals: the Black Sox Scandal and the Houston Astros sign stealing scandal. The most recent World Series champions are the Los Angeles Dodgers.\\nThe last team to repeat as champions were the Yankees in 2000. Two World Series matchups (in 1982 and 2005) have no possibility of a rematch due to one of the contending teams switching to the opposing league – the Milwaukee Brewers moved to the NL in 1998, and the Houston Astros moved to the AL in 2013.', 'source': 'https://en.wikipedia.org/wiki/List_of_World_Series_champions'}, page_content='The World Series is the annual championship series of Major League Baseball (MLB) and concludes the MLB postseason. First played in 1903, the World Series championship is a best-of-seven playoff and is a contest between the champions of baseball\\'s National League (NL) and American League (AL). Often referred to as the \"Fall Classic\", the modern World Series has been played every year since 1903 with two exceptions: in 1904, when the NL champion New York Giants declined to play the AL champion Boston Americans; and in 1994, when the series was canceled due to the players\\' strike. The best-of-seven style has been the format of all World Series except in 1903, 1919, 1920, 1921, when the winner was determined through a best-of-nine playoff. Although the large majority of contests have been played entirely during the month of October, a small number of Series have also had games played during September and November. The Series-winning team is awarded the Commissioner\\'s Trophy. Players, coaches and others associated with the team are generally given World Series rings to commemorate their victory; however, they have received other items such as pocket watches and medallions in the past. The winning team is traditionally invited to the White House to meet the President of the United States.\\nA total of 120 World Series have been contested through 2024, with the AL champion winning 68 and the NL champion winning 52. The New York Yankees of the AL have played in 41 World Series, winning 27 – the most championship appearances and most victories by any MLB team. The Dodgers and the Yankees are tied for the most losses with 14 each. The St. Louis Cardinals have won 11 championships, the most among NL clubs and second-most all-time behind the Yankees. The Dodgers have represented the NL the most in the World Series with 22 appearances. The Seattle Mariners are the only MLB franchise that has never appeared in a World Series; the Milwaukee Brewers, San Diego Padres, Tampa Bay Rays, and Colorado Rockies have all played in the Series but have never won it, with the Padres and the Rays appearing twice. The Los Angeles Angels and Washington Nationals are the only teams who have won their only World Series appearance, and the Toronto Blue Jays and Miami Marlins are the only teams with multiple World Series appearances with no losses. The Toronto Blue Jays are the only franchise from outside the United States to appear in and win a World Series, winning in 1992 and 1993. The Houston Astros are the only franchise to have represented both the NL (2005) and the AL (2017, 2019, 2021, 2022), winning the Series in 2017 and 2022.  The 1919 and 2017 World Series were both marred with cheating scandals: the Black Sox Scandal and the Houston Astros sign stealing scandal. The most recent World Series champions are the Los Angeles Dodgers.\\nThe last team to repeat as champions were the Yankees in 2000. Two World Series matchups (in 1982 and 2005) have no possibility of a rematch due to one of the contending teams switching to the opposing league – the Milwaukee Brewers moved to the NL in 1998, and the Houston Astros moved to the AL in 2013. \\n\\n\\n== Results ==\\nNumbers in parentheses in the table are World Series appearances as of the date of that World Series, and are used as follows:\\n\\nWinning team and Losing team columns indicate the number of times that team has appeared in a World Series as well as each respective team\\'s World Series record to date.\\n\\nLegend\\n\\nV  The 1903, 1919, 1920, and 1921 World Series were in a best-of-nine format (carried by the first team to win five games).\\nT  The 1907, 1912, and 1922 World Series each included one tied game.\\nA  The Brewers were in the American League from 1969 to 1997, after which they moved to the National League.\\nN  The Astros were in the National League from 1962 to 2012, after which they moved to the American League.\\nW  Indicates a team that made the playoffs as a wild card team (rather than by winning a division).\\n')]\n"
     ]
    }
   ],
   "source": [
    "from langchain_community.document_loaders import WikipediaLoader\n",
    "simple_context = WikipediaLoader(query=question, load_max_docs=2).load()\n",
    "print(simple_context)"
   ]
  },
  {
   "cell_type": "markdown",
   "metadata": {},
   "source": [
    "Now we are going to run an inference using our context"
   ]
  },
  {
   "cell_type": "code",
   "execution_count": 6,
   "metadata": {},
   "outputs": [
    {
     "name": "stdout",
     "output_type": "stream",
     "text": [
      "Context Length: 4000\n",
      "=== LLM Inference === \n",
      "The Los Angeles Dodgers won the 2024 MLB World Series.\n"
     ]
    }
   ],
   "source": [
    "with dspy.context(lm=lm):\n",
    "\n",
    "    inference = answer(\n",
    "        question=question,\n",
    "        context=simple_context[0].page_content\n",
    "    )\n",
    "print(f\"Context Length: {len(simple_context[0].page_content)}\")\n",
    "print(f\"=== LLM Inference === \\n{inference.answer}\")"
   ]
  },
  {
   "cell_type": "markdown",
   "metadata": {},
   "source": [
    "Congratulations! We just used a simple RAG technique that enabled our LLM to use current information to answer a question."
   ]
  },
  {
   "cell_type": "markdown",
   "metadata": {},
   "source": [
    "## Advanced RAG Techniques\n",
    "\n",
    "To make your RAG setup even more powerful, several advanced techniques can be applied:"
   ]
  },
  {
   "cell_type": "markdown",
   "metadata": {},
   "source": [
    "### 1. Embeddings\n",
    "\n",
    "**Embeddings** are vector representations of text that allow for semantic comparison. By using embeddings for both the query and documents, you can measure their similarity in a high-dimensional space, leading to more accurate retrieval. Embeddings capture the meaning of words and phrases, enabling a more nuanced search that takes into account context and relationships between terms.\n",
    "\n",
    "**AWS Service**: You can use **Amazon SageMaker** to create and manage embeddings using models like BERT or custom-trained models. **Amazon Kendra** also provides capabilities to build embeddings for efficient semantic search.\n"
   ]
  },
  {
   "cell_type": "markdown",
   "metadata": {},
   "source": [
    "Query more context from Wikipedia"
   ]
  },
  {
   "cell_type": "code",
   "execution_count": 7,
   "metadata": {},
   "outputs": [],
   "source": [
    "queries = [\n",
    "    \"What was the final score of the last game of the 2024 World Series?\",\n",
    "    \"Who was named MVP of the 2024 World Series?\",\n",
    "    \"Which stadium hosted the opening game of the 2024 World Series?\",\n",
    "    \"Which teams participated in the 2024 World Series?\",\n",
    "    \"What dates was the 2024 World Series played on?\",\n",
    "    \"How many games did the 2024 World Series last?\"\n",
    "]\n",
    "wikipedia_docs = []\n",
    "for eq in queries:\n",
    "    docs = WikipediaLoader(query=eq, load_max_docs=2).load()\n",
    "    wikipedia_docs.extend(docs)\n",
    "\n",
    "# Combine extra Wikipedia docs with your original wikipedia_context\n",
    "adv_context = wikipedia_docs + simple_context"
   ]
  },
  {
   "cell_type": "markdown",
   "metadata": {},
   "source": [
    "Connect to Redis and Create an Index"
   ]
  },
  {
   "cell_type": "code",
   "execution_count": 8,
   "metadata": {},
   "outputs": [
    {
     "name": "stdout",
     "output_type": "stream",
     "text": [
      "Created a new index named: docs_idx_006c8ead15374dd78724cff89499fadd\n"
     ]
    }
   ],
   "source": [
    "import uuid\n",
    "import redis\n",
    "from redis.commands.search.field import TextField, VectorField\n",
    "from redis.commands.search.indexDefinition import IndexDefinition, IndexType\n",
    "from redis.commands.search.query import Query\n",
    "import array\n",
    "from sentence_transformers import SentenceTransformer\n",
    "\n",
    "# Initialize the model (will download it if not cached)\n",
    "embedder = SentenceTransformer('msmarco-distilbert-base-v4')\n",
    "\n",
    "# Connect to Redis\n",
    "r = redis.Redis(host=\"localhost\", port=6379, db=0)\n",
    "\n",
    "# Generate a new, unique index name for each run.\n",
    "INDEX_NAME = f\"docs_idx_{uuid.uuid4().hex}\"\n",
    "\n",
    "# Now create a new index with that unique name\n",
    "DIMENSIONS = 768 \n",
    "r.ft(INDEX_NAME).create_index(\n",
    "    fields=[\n",
    "        VectorField(\n",
    "            \"embedding\",\n",
    "            \"FLAT\",\n",
    "            {\n",
    "                \"TYPE\": \"FLOAT32\",\n",
    "                \"DIM\": DIMENSIONS,\n",
    "                \"DISTANCE_METRIC\": \"COSINE\"\n",
    "            }\n",
    "        ),\n",
    "        TextField(\"page_content\")\n",
    "    ],\n",
    "    definition=IndexDefinition(prefix=[\"doc:\"], index_type=IndexType.HASH)\n",
    ")\n",
    "\n",
    "print(f\"Created a new index named: {INDEX_NAME}\")\n"
   ]
  },
  {
   "cell_type": "markdown",
   "metadata": {},
   "source": [
    "Create Embedding function and Insert Documents (Vectors + Text)"
   ]
  },
  {
   "cell_type": "code",
   "execution_count": 9,
   "metadata": {},
   "outputs": [
    {
     "name": "stdout",
     "output_type": "stream",
     "text": [
      "Stored 'doc:docs_idx_006c8ead15374dd78724cff89499fadd:{'title': '2024 World Series', 'summary': \"The 2024 World Series was the championship series of Major League Baseball's (MLB) 2024 season. The 120th edition of the World Series, it was a best-of-seven playoff between the National League (NL) champion Los Angeles Dodgers and the American League (AL) champion New York Yankees. It was the Dodgers' first World Series appearance and win since 2020, and the Yankees' first World Series appearance since 2009. The series began on October 25 and ended on October 30 with the Dodgers winning in five games. Freddie Freeman was named the MVP of the series, tying a World Series record with 12 runs batted in (RBIs) while hitting home runs in the first four games of the series, including the first walk-off grand slam in World Series history in Game 1.\\nThe Dodgers and Yankees entered the 2024 MLB postseason as the top seeds in their respective leagues. The Dodgers had home-field advantage in the series due to their better regular season win-loss record. It was the 12th time in the Dodgers–Yankees rivalry that the teams have met in the World Series, but only the first instance since 1981. The teams had previously faced each other at least once per decade from the 1940s through the 1980s. The Yankees held a 6–1 edge in the World Series rivalry during the Brooklyn Dodgers/Subway Series era, and the teams were 2–2 following the Dodgers' relocation to Los Angeles. In their 2024 World Series meeting, the Dodgers took a 3–0 series lead before losing Game 4 in New York. They would win their eighth World Series title the next day, coming back from a 5–0 deficit, a record for most runs to come from behind in a World Series clinching game.\", 'source': 'https://en.wikipedia.org/wiki/2024_World_Series'}' in Redis\n",
      "Stored 'doc:docs_idx_006c8ead15374dd78724cff89499fadd:{'title': 'The Game Awards 2024', 'summary': 'The Game Awards 2024 was an award show to honor the best video games of 2024. It was the eleventh show hosted by Geoff Keighley, creator and producer of the Game Awards, and held with a live audience at the Peacock Theater in Los Angeles on December 12, 2024, and live streamed across online platforms globally. It featured musical performances from d4vd, Royal & the Serpent, Snoop Dogg, and Twenty One Pilots, and presentations from celebrity guests including Harrison Ford, Hideo Kojima, and Aaron Paul.\\nAstro Bot and Final Fantasy VII Rebirth led the nominees with seven each, and the former led the show with four wins, including Game of the Year. The inaugural Game Changer award honored Amir Satvat for helping workers in the industry find jobs amid mass layoffs. Several new games were announced, including Elden Ring Nightreign, Intergalactic: The Heretic Prophet, and The Witcher IV. The show was viewed by over 154 million streams, the most in its history. Journalists praised the game announcements, developer speeches, and deserving winners, though the eligibility of downloadable content led to mixed responses.\\n\\n', 'source': 'https://en.wikipedia.org/wiki/The_Game_Awards_2024'}' in Redis\n",
      "Stored 'doc:docs_idx_006c8ead15374dd78724cff89499fadd:{'title': '2024 World Series', 'summary': \"The 2024 World Series was the championship series of Major League Baseball's (MLB) 2024 season. The 120th edition of the World Series, it was a best-of-seven playoff between the National League (NL) champion Los Angeles Dodgers and the American League (AL) champion New York Yankees. It was the Dodgers' first World Series appearance and win since 2020, and the Yankees' first World Series appearance since 2009. The series began on October 25 and ended on October 30 with the Dodgers winning in five games. Freddie Freeman was named the MVP of the series, tying a World Series record with 12 runs batted in (RBIs) while hitting home runs in the first four games of the series, including the first walk-off grand slam in World Series history in Game 1.\\nThe Dodgers and Yankees entered the 2024 MLB postseason as the top seeds in their respective leagues. The Dodgers had home-field advantage in the series due to their better regular season win-loss record. It was the 12th time in the Dodgers–Yankees rivalry that the teams have met in the World Series, but only the first instance since 1981. The teams had previously faced each other at least once per decade from the 1940s through the 1980s. The Yankees held a 6–1 edge in the World Series rivalry during the Brooklyn Dodgers/Subway Series era, and the teams were 2–2 following the Dodgers' relocation to Los Angeles. In their 2024 World Series meeting, the Dodgers took a 3–0 series lead before losing Game 4 in New York. They would win their eighth World Series title the next day, coming back from a 5–0 deficit, a record for most runs to come from behind in a World Series clinching game.\", 'source': 'https://en.wikipedia.org/wiki/2024_World_Series'}' in Redis\n",
      "Stored 'doc:docs_idx_006c8ead15374dd78724cff89499fadd:{'title': 'World Series Most Valuable Player Award', 'summary': \"The Willie Mays World Series Most Valuable Player (MVP) Award is given to the Major League Baseball (MLB) player deemed to have the most impact on his team's performance in the World Series, which is the final round of the MLB postseason. The award was first presented in 1955 by Sport magazine, but since 1985 has been officially presented by MLB. The winner is determined during the final game of the World Series by a committee of reporters and officials present at the game.\\nOn September 29, 2017, the award was renamed in honor of Willie Mays in remembrance of the 63rd anniversary of The Catch, which occurred the year before the award's debut; Mays never won the award himself.\\n\\n\", 'source': 'https://en.wikipedia.org/wiki/World_Series_Most_Valuable_Player_Award'}' in Redis\n",
      "Stored 'doc:docs_idx_006c8ead15374dd78724cff89499fadd:{'title': 'AT&T Stadium', 'summary': \"AT&T Stadium is a retractable roof stadium in Arlington, Texas, United States. It serves as the home of the Dallas Cowboys of the National Football League (NFL), and was completed on May 27, 2009.  It is also the home of the Cotton Bowl Classic, the Big 12 Championship Game, and the Southwest Classic. The stadium is one of 11 US venues set to host matches during the 2026 FIFA World Cup. The facility, owned by the City of Arlington, has also been used for a variety of other activities, such as concerts, basketball games, soccer, college and high-school football contests, rodeos, motocross, Spartan Races and professional wrestling. It replaced the partially covered Texas Stadium, which served as the Cowboys' home from 1971 through the 2008 season.\\nThe stadium is widely referred to as Jerry World and The Death Star after Dallas Cowboys owner Jerry Jones, who originally envisioned it as a large entertainment venue. The stadium seats 80,000 people, but can be reconfigured to hold over 100,000 people by the use of standing room, making it the largest stadium in the NFL by seating capacity. Additional attendance is made possible by the Party Pass (open areas) sections behind the seats in each end zone that are positioned on a series of six elevated platforms connected by stairways.  The record attendance for an NFL regular season game was set in 2009 with a crowd of 105,121. It also has twin video boards that are among the largest high-definition video screens in the world.\\n\\n\", 'source': 'https://en.wikipedia.org/wiki/AT%26T_Stadium'}' in Redis\n",
      "Stored 'doc:docs_idx_006c8ead15374dd78724cff89499fadd:{'title': \"2024 Men's T20 World Cup\", 'summary': \"The 2024 ICC Men's T20 World Cup was the ninth edition of the ICC Men's T20 World Cup. It was co-hosted by the West Indies and the United States from 1 to 29 June 2024; the tournament was hosted by the West Indies for the second time, and it was also the first major ICC tournament to feature matches played in the United States.\\nThe tournament expanded from 16 to 20 teams, including the two hosts, the top eight teams from the 2022 edition, the two highest-ranked teams in the ICC Men's T20I Team Rankings not already qualified, and eight other teams determined through regional qualifiers. Canada and Uganda qualified for the men's T20 World Cup for the first time, while the United States participated for the first time by virtue of being co-hosts.\\nEngland were the defending champions and were beaten in the semi-finals by India, who went on to win their second T20 World Cup title, defeating South Africa by 7 runs and equalling England and West Indies with the most titles in the T20 World Cup while also becoming the first team in T20 World Cup history to win the title undefeated throughout the tournament.\", 'source': 'https://en.wikipedia.org/wiki/2024_Men%27s_T20_World_Cup'}' in Redis\n",
      "Stored 'doc:docs_idx_006c8ead15374dd78724cff89499fadd:{'title': \"2024 Men's T20 World Cup\", 'summary': \"The 2024 ICC Men's T20 World Cup was the ninth edition of the ICC Men's T20 World Cup. It was co-hosted by the West Indies and the United States from 1 to 29 June 2024; the tournament was hosted by the West Indies for the second time, and it was also the first major ICC tournament to feature matches played in the United States.\\nThe tournament expanded from 16 to 20 teams, including the two hosts, the top eight teams from the 2022 edition, the two highest-ranked teams in the ICC Men's T20I Team Rankings not already qualified, and eight other teams determined through regional qualifiers. Canada and Uganda qualified for the men's T20 World Cup for the first time, while the United States participated for the first time by virtue of being co-hosts.\\nEngland were the defending champions and were beaten in the semi-finals by India, who went on to win their second T20 World Cup title, defeating South Africa by 7 runs and equalling England and West Indies with the most titles in the T20 World Cup while also becoming the first team in T20 World Cup history to win the title undefeated throughout the tournament.\", 'source': 'https://en.wikipedia.org/wiki/2024_Men%27s_T20_World_Cup'}' in Redis\n",
      "Stored 'doc:docs_idx_006c8ead15374dd78724cff89499fadd:{'title': '2024 Formula One World Championship', 'summary': \"The 2024 FIA Formula One World Championship was a motor racing championship for Formula One cars and was the 75th running of the Formula One World Championship. It was recognised by the Fédération Internationale de l'Automobile (FIA), the governing body of international motorsport, as the highest class of competition for open-wheel racing cars. The championship was contested over a record twenty-four Grands Prix held around the world. \\nDrivers and teams competed for the titles of World Drivers' Champion and World Constructors' Champion, respectively. Defending Drivers' Champion Max Verstappen started off the season with five wins in the first seven races, but was pressured by McLaren-Mercedes driver Lando Norris for the rest of the season after his RB20 fell behind Norris' MCL38 in terms of performance. Despite this, Verstappen performed consistently at the front of the field and won his fourth consecutive Drivers' Championship title at the Las Vegas Grand Prix, while McLaren surpassed defending Constructors' Champions Red Bull Racing-Honda RBPT and achieved their ninth Constructors' Championship title at the Abu Dhabi Grand Prix. With their win, McLaren became the first constructor other than Red Bull Racing and Mercedes to win the title since Brawn in 2009.\", 'source': 'https://en.wikipedia.org/wiki/2024_Formula_One_World_Championship'}' in Redis\n",
      "Stored 'doc:docs_idx_006c8ead15374dd78724cff89499fadd:{'title': 'What If...? (TV series)', 'summary': \"What If...? is an American animated anthology television series created by A. C. Bradley for the streaming service Disney+ based on the Marvel Comics series of the same name. It is the fourth television series in the Marvel Cinematic Universe (MCU) from Marvel Studios, the first animated series from the studio, and the first series produced by Marvel Studios Animation. The series explores alternate timelines in the multiverse that show what would happen if major moments from the MCU films occurred differently. Bradley served as head writer for the first two seasons, with Matthew Chauncey taking over for the third, and Bryan Andrews as the lead director.\\nJeffrey Wright stars as the Watcher, who narrates the series, alongside many MCU film actors reprising their roles. Marvel Studios was developing the series for Disney+ by the end of 2018, with Bradley and Andrews on board. It was officially announced in April 2019. Marvel Studios' head of visual development Ryan Meinerding helped define the series' cel-shaded animation style, which was designed to reflect the films and take inspiration from classic American illustrators. Animation for the series was provided by Flying Bark Productions and Stellar Creative Lab, with Blue Spirit and Squeeze also working on the first season and SDFX Studios working on the second. Stephan Franck was head of animation for the first season and a director on the second and third seasons, with Scott Wright as head of animation for the second and third seasons. Chauncey was the series' story editor before replacing Bradley as head writer.\\nThe first season of What If...? premiered on August 11, 2021, and ran for nine episodes until October 6, as part of Phase Four of the MCU. The second season was released daily from December 22 to 30, 2023, and the third and final season premiered on December 22, 2024, also releasing daily; both are part of Phase Five. The series has received generally positive reviews, with praise for the voice acting, animation, creative storylines, and scenarios, although the episodes' length and writing received some criticism. An interactive augmented and virtual reality story for the Apple Vision Pro headset, What If...? – An Immersive Story, was released in May 2024, and a spin-off series titled Marvel Zombies is set to premiere in October 2025.\", 'source': 'https://en.wikipedia.org/wiki/What_If...%3F_(TV_series)'}' in Redis\n",
      "Stored 'doc:docs_idx_006c8ead15374dd78724cff89499fadd:{'title': '2024 World Series', 'summary': \"The 2024 World Series was the championship series of Major League Baseball's (MLB) 2024 season. The 120th edition of the World Series, it was a best-of-seven playoff between the National League (NL) champion Los Angeles Dodgers and the American League (AL) champion New York Yankees. It was the Dodgers' first World Series appearance and win since 2020, and the Yankees' first World Series appearance since 2009. The series began on October 25 and ended on October 30 with the Dodgers winning in five games. Freddie Freeman was named the MVP of the series, tying a World Series record with 12 runs batted in (RBIs) while hitting home runs in the first four games of the series, including the first walk-off grand slam in World Series history in Game 1.\\nThe Dodgers and Yankees entered the 2024 MLB postseason as the top seeds in their respective leagues. The Dodgers had home-field advantage in the series due to their better regular season win-loss record. It was the 12th time in the Dodgers–Yankees rivalry that the teams have met in the World Series, but only the first instance since 1981. The teams had previously faced each other at least once per decade from the 1940s through the 1980s. The Yankees held a 6–1 edge in the World Series rivalry during the Brooklyn Dodgers/Subway Series era, and the teams were 2–2 following the Dodgers' relocation to Los Angeles. In their 2024 World Series meeting, the Dodgers took a 3–0 series lead before losing Game 4 in New York. They would win their eighth World Series title the next day, coming back from a 5–0 deficit, a record for most runs to come from behind in a World Series clinching game.\", 'source': 'https://en.wikipedia.org/wiki/2024_World_Series'}' in Redis\n",
      "Stored 'doc:docs_idx_006c8ead15374dd78724cff89499fadd:{'title': 'The Last of Us (TV series)', 'summary': \"The Last of Us is an American post-apocalyptic drama television series created by Craig Mazin and Neil Druckmann for HBO. Based on the video game franchise developed by Naughty Dog, the series is set twenty years into a pandemic caused by a mass fungal infection, which causes its hosts to transform into zombie-like creatures and causes the collapse of society. The first season, based on 2013's The Last of Us, follows Joel (Pedro Pascal), a smuggler tasked with escorting immune teenager Ellie (Bella Ramsey) across a post-apocalyptic United States. The second season, expected to partly adapt 2020's The Last of Us Part II, is set five years later and introduces Abby (Kaitlyn Dever).\\nGuest stars include Nico Parker as Joel's daughter Sarah, Merle Dandridge as resistance leader Marlene, Anna Torv as Joel's partner Tess, Gabriel Luna as Joel's brother Tommy, Lamar Johnson and Keivonn Montreal Woodard as brothers Henry and Sam, and Melanie Lynskey and Jeffrey Pierce as resistance leader Kathleen and her second-in-command Perry. The second season is set to introduce Isabela Merced as Ellie's romantic interest Dina and Young Mazino as Dina's ex Jesse.\\nThe first season was filmed in Alberta from July 2021 to June 2022, while the second season was filmed in British Columbia from February to August 2024. It is the first HBO series based on a video game, and is a joint production by Sony Pictures Television, PlayStation Productions, Naughty Dog, the Mighty Mint, and Word Games. Druckmann, who wrote and co-directed the games, assisted Mazin with scriptwriting for the first season's nine episodes, joined by Halley Gross, who co-wrote the second game, and Bo Shim for the second season's seven episodes. The score was composed by Gustavo Santaolalla, who composed for the games, and David Fleming.\\nThe Last of Us premiered on January 15, 2023. It received acclaim from critics, who praised the performances, writing, production design, and score; several called it the best adaptation of a video game. It won several awards, including eight Primetime Emmy Awards out of 24 nominations. Across linear channels and HBO Max, the series premiere was watched by almost 40 million viewers within two months; the series averaged almost 32 million viewers per episode by May, and it became HBO's most watched debut season. The second season is set to premiere in April 2025, and a third season is in development.\", 'source': 'https://en.wikipedia.org/wiki/The_Last_of_Us_(TV_series)'}' in Redis\n",
      "Stored 'doc:docs_idx_006c8ead15374dd78724cff89499fadd:{'title': 'Sonic the Hedgehog', 'summary': 'Sonic the Hedgehog is a video game series and media franchise created by the Japanese developers Yuji Naka, Naoto Ohshima, and Hirokazu Yasuhara for Sega. The franchise follows Sonic, an anthropomorphic blue hedgehog who battles the evil Doctor Eggman, a mad scientist. The main Sonic the Hedgehog games are platformers mostly developed by Sonic Team; other games, developed by various studios, include spin-offs in the racing, fighting, party and sports genres. The franchise also incorporates printed media, animations, feature films, and merchandise.\\nNaka, Ohshima, and Yasuhara developed the first Sonic game, released in 1991 for the Sega Genesis, to provide Sega with a mascot to compete with Nintendo\\'s Mario. Its success helped Sega become one of the leading video game companies during the fourth generation of video game consoles in the early 1990s. Sega Technical Institute developed the next three Sonic games, plus the spin-off Sonic Spinball (1993). A number of Sonic games were also developed for Sega\\'s 8-bit consoles, the Master System and Game Gear. After a hiatus during the unsuccessful Saturn era, the first major 3D Sonic game, Sonic Adventure, was released in 1998 for the Dreamcast. Sega exited the console market and shifted to third-party development in 2001, continuing the series on Nintendo, Xbox, and PlayStation systems. Takashi Iizuka has been the series\\' producer since 2010.\\nSonic\\'s recurring elements include a ring-based health system, level locales such as Green Hill Zone, and fast-paced gameplay. The games typically feature Sonic setting out to stop Eggman\\'s schemes for world domination, and the player navigates levels that include springs, slopes, bottomless pits, and vertical loops. Later games added a large cast of characters; some, such as Miles \"Tails\" Prower, Knuckles the Echidna, and Shadow the Hedgehog, have starred in spin-offs. The franchise has crossed over with other video game franchises in games such as Mario & Sonic, Sega All-Stars, and Super Smash Bros. Outside of video games, Sonic includes comic books published by Archie Comics, Fleetway Publications, and IDW Publishing; animated series produced by DIC Entertainment, TMS Entertainment, Genao Productions, and Netflix; a live-action film series produced by Paramount Pictures; and toys, including Lego construction sets.\\nSonic the Hedgehog is Sega\\'s flagship franchise and one of the bestselling video game franchises, selling over 140 million copies by 2016 and grossing over $5 billion as of 2014. Series sales and free-to-play mobile game downloads totaled 1.77 billion as of 2024. The Genesis Sonic games have been described as representative of the culture of the 1990s and listed among the greatest of all time. Although later games, such as the 2006 game, received poorer reviews, Sonic is influential in the video game industry and is frequently referenced in popular culture. The franchise is known for its fandom that produces unofficial media, such as fan art and fangames.', 'source': 'https://en.wikipedia.org/wiki/Sonic_the_Hedgehog'}' in Redis\n",
      "Stored 'doc:docs_idx_006c8ead15374dd78724cff89499fadd:{'title': '2024 World Series', 'summary': \"The 2024 World Series was the championship series of Major League Baseball's (MLB) 2024 season. The 120th edition of the World Series, it was a best-of-seven playoff between the National League (NL) champion Los Angeles Dodgers and the American League (AL) champion New York Yankees. It was the Dodgers' first World Series appearance and win since 2020, and the Yankees' first World Series appearance since 2009. The series began on October 25 and ended on October 30 with the Dodgers winning in five games. Freddie Freeman was named the MVP of the series, tying a World Series record with 12 runs batted in (RBIs) while hitting home runs in the first four games of the series, including the first walk-off grand slam in World Series history in Game 1.\\nThe Dodgers and Yankees entered the 2024 MLB postseason as the top seeds in their respective leagues. The Dodgers had home-field advantage in the series due to their better regular season win-loss record. It was the 12th time in the Dodgers–Yankees rivalry that the teams have met in the World Series, but only the first instance since 1981. The teams had previously faced each other at least once per decade from the 1940s through the 1980s. The Yankees held a 6–1 edge in the World Series rivalry during the Brooklyn Dodgers/Subway Series era, and the teams were 2–2 following the Dodgers' relocation to Los Angeles. In their 2024 World Series meeting, the Dodgers took a 3–0 series lead before losing Game 4 in New York. They would win their eighth World Series title the next day, coming back from a 5–0 deficit, a record for most runs to come from behind in a World Series clinching game.\", 'source': 'https://en.wikipedia.org/wiki/2024_World_Series'}' in Redis\n",
      "Stored 'doc:docs_idx_006c8ead15374dd78724cff89499fadd:{'title': 'List of World Series champions', 'summary': 'The World Series is the annual championship series of Major League Baseball (MLB) and concludes the MLB postseason. First played in 1903, the World Series championship is a best-of-seven playoff and is a contest between the champions of baseball\\'s National League (NL) and American League (AL). Often referred to as the \"Fall Classic\", the modern World Series has been played every year since 1903 with two exceptions: in 1904, when the NL champion New York Giants declined to play the AL champion Boston Americans; and in 1994, when the series was canceled due to the players\\' strike. The best-of-seven style has been the format of all World Series except in 1903, 1919, 1920, 1921, when the winner was determined through a best-of-nine playoff. Although the large majority of contests have been played entirely during the month of October, a small number of Series have also had games played during September and November. The Series-winning team is awarded the Commissioner\\'s Trophy. Players, coaches and others associated with the team are generally given World Series rings to commemorate their victory; however, they have received other items such as pocket watches and medallions in the past. The winning team is traditionally invited to the White House to meet the President of the United States.\\nA total of 120 World Series have been contested through 2024, with the AL champion winning 68 and the NL champion winning 52. The New York Yankees of the AL have played in 41 World Series, winning 27 – the most championship appearances and most victories by any MLB team. The Dodgers and the Yankees are tied for the most losses with 14 each. The St. Louis Cardinals have won 11 championships, the most among NL clubs and second-most all-time behind the Yankees. The Dodgers have represented the NL the most in the World Series with 22 appearances. The Seattle Mariners are the only MLB franchise that has never appeared in a World Series; the Milwaukee Brewers, San Diego Padres, Tampa Bay Rays, and Colorado Rockies have all played in the Series but have never won it, with the Padres and the Rays appearing twice. The Los Angeles Angels and Washington Nationals are the only teams who have won their only World Series appearance, and the Toronto Blue Jays and Miami Marlins are the only teams with multiple World Series appearances with no losses. The Toronto Blue Jays are the only franchise from outside the United States to appear in and win a World Series, winning in 1992 and 1993. The Houston Astros are the only franchise to have represented both the NL (2005) and the AL (2017, 2019, 2021, 2022), winning the Series in 2017 and 2022.  The 1919 and 2017 World Series were both marred with cheating scandals: the Black Sox Scandal and the Houston Astros sign stealing scandal. The most recent World Series champions are the Los Angeles Dodgers.\\nThe last team to repeat as champions were the Yankees in 2000. Two World Series matchups (in 1982 and 2005) have no possibility of a rematch due to one of the contending teams switching to the opposing league – the Milwaukee Brewers moved to the NL in 1998, and the Houston Astros moved to the AL in 2013.', 'source': 'https://en.wikipedia.org/wiki/List_of_World_Series_champions'}' in Redis\n"
     ]
    }
   ],
   "source": [
    "# Embedding function (stub)\n",
    "def get_embedding(text: str) -> list[float]:\n",
    "    \"\"\"\n",
    "    Use msmarco-distilbert-base-v4 via SentenceTransformers\n",
    "    to generate an embedding for the given text.\n",
    "    \"\"\"\n",
    "    # The embedder.encode(...) returns a list (or numpy array) of floats\n",
    "    embedding_vector = embedder.encode([text])[0]  # Encode returns a list of embeddings\n",
    "    return embedding_vector.tolist()\n",
    "\n",
    "# Store each document’s text + embedding in Redis\n",
    "for d in adv_context:\n",
    "    embedding = get_embedding(d.page_content)\n",
    "    \n",
    "    # Convert the list of floats to bytes for Redis\n",
    "    embedding_bytes = array.array('f', embedding).tobytes()\n",
    "    \n",
    "    # Use the pattern \"doc:{INDEX_NAME}:{id}\" to keep your docs separate for each index\n",
    "    doc_key = f\"doc:{INDEX_NAME}:{d.metadata}\"\n",
    "    \n",
    "    # Store both the text and the vector field\n",
    "    r.hset(\n",
    "        doc_key,\n",
    "        mapping={\n",
    "            \"page_content\": d.page_content,\n",
    "            \"embedding\": embedding_bytes\n",
    "        }\n",
    "    )\n",
    "    \n",
    "    print(f\"Stored '{doc_key}' in Redis\")"
   ]
  },
  {
   "cell_type": "markdown",
   "metadata": {},
   "source": [
    "Search Redis Cache and pass context to LLM inferencing."
   ]
  },
  {
   "cell_type": "code",
   "execution_count": 10,
   "metadata": {},
   "outputs": [
    {
     "name": "stdout",
     "output_type": "stream",
     "text": [
      "Context Length: 40018\n",
      "=== LLM Inference === \n",
      "The World Series is the annual championship series of Major League Baseball (MLB) and concludes the MLB postseason.\n",
      "First played in 1903, the World Series championship is a best-of-seven playoff and is a contest between the champions of baseball's National League (NL) and American League (AL).\n",
      "Often referred to as the \"Fall Classic\", the modern World Series has been played every year since 1903 with two exceptions: in 1904, when the NL champion New York Giants declined to play the AL champion Boston Americans; and in 1994, when the series was canceled due to the players' strike.\n",
      "The best-of-seven style has been the format of all World Series except in 1903, 1919, 1920, 1921, when the winner was determined through a best-of-nine playoff.\n",
      "Although the large majority of contests have been played entirely during the month of October, a small number of Series have also had games played during September and November.\n",
      "The Series-winning team is awarded the Commissioner's Trophy.\n",
      "Players, coaches and others associated with the team are generally given World Series rings to commemorate their victory; however, they have received other items such as pocket watches and medallions in the past.\n",
      "The winning team is traditionally invited to the White House to meet the President of the United States.\n"
     ]
    }
   ],
   "source": [
    "def redis_vector_search(r, index_name: str, query_text: str, top_k: int = 10) -> list:\n",
    "    \"\"\"\n",
    "    1. Generate an embedding for the query text.\n",
    "    2. Use Redis vector similarity search (KNN) to find the top_k matches in the given index.\n",
    "    3. Do NOT rank (sort) results by vector_score; simply return them in the default order.\n",
    "    \"\"\"\n",
    "\n",
    "    # Generate a query embedding\n",
    "    query_embedding = get_embedding(query_text)  # Must return list[float]\n",
    "\n",
    "    # Convert embedding to float32 bytes\n",
    "    query_embedding_bytes = array.array('f', query_embedding).tobytes()\n",
    "\n",
    "    # Build the vector search query without sorting:\n",
    "    #   [KNN <top_k> @embedding $BLOB AS vector_score]\n",
    "    redis_query = f\"*=>[KNN {top_k} @embedding $BLOB AS vector_score]\"\n",
    "\n",
    "    # Execute the search against our index named index_name\n",
    "    # - We simply return \"page_content\"\n",
    "    search_result = r.ft(index_name).search(\n",
    "        Query(redis_query)\n",
    "        .return_fields(\"page_content\")  # or just \"page_content\"\n",
    "        .dialect(2),\n",
    "        query_params={\"BLOB\": query_embedding_bytes}\n",
    "    )\n",
    "\n",
    "    # Format the results, excluding ranking and score\n",
    "    results = []\n",
    "    for doc in search_result.docs:\n",
    "        results.append({\n",
    "            # We only keep the raw content, no \"score\" field\n",
    "            \"page_content\": doc.page_content\n",
    "        })\n",
    "\n",
    "    return results\n",
    "\n",
    "# Search Cache \n",
    "search_results = redis_vector_search(r, INDEX_NAME, question)\n",
    "\n",
    "# Aggregate the results\n",
    "search_context = \"\\n\\n\".join([res[\"page_content\"] for res in search_results])\n",
    "\n",
    "# Pass the concatenated context to our QA pipeline\n",
    "with dspy.context(lm=lm):\n",
    "    inference = answer(\n",
    "        question=question,\n",
    "        context=search_context\n",
    "    )\n",
    "\n",
    "# Print the final answer\n",
    "print(f\"Context Length: {len(search_context)}\")\n",
    "print(f\"=== LLM Inference === \\n{inference.answer}\")\n"
   ]
  },
  {
   "cell_type": "markdown",
   "metadata": {},
   "source": [
    "### 4. Ranking Results\n",
    "\n",
    "Ranking involves scoring retrieved documents based on their relevance to the user's query. \n",
    "\n",
    "Techniques like **BM25** or neural network-based ranking can help ensure the best content is selected for augmentation. The ranking process is crucial for ensuring that the generative model has the most relevant and informative content to work with.\n",
    "\n",
    "\n",
    "\n",
    "**AWS Service**: **Amazon OpenSearch Service** (formerly Elasticsearch) can be used for indexing and ranking documents using techniques like BM25. You can also use **Amazon SageMaker** for building custom ranking models."
   ]
  },
  {
   "cell_type": "code",
   "execution_count": 11,
   "metadata": {},
   "outputs": [
    {
     "name": "stdout",
     "output_type": "stream",
     "text": [
      "\n",
      "=== Search Results ===\n",
      "Result 1: (score=0.37796831131)\n",
      "Result 2: (score=0.37796831131)\n",
      "Result 3: (score=0.37796831131)\n",
      "Context Length: 12004\n",
      "=== LLM Inference === \n",
      "The 2024 World Series was the championship series of Major League Baseball's (MLB) 2024 season. The 120th edition of the World Series, it was a best-of-seven playoff between the National League (NL) champion Los Angeles Dodgers and the American League (AL) champion New York Yankees. It was the Dodgers' first World Series appearance and win since 2020, and the Yankees' first World Series appearance since 2009.\n",
      "\n",
      "The series began on October 25 and ended on October 30 with the Dodgers winning in five games. Freddie Freeman was named the MVP of the series, tying a World Series record with 12 runs batted in (RBIs) while hitting home runs in the first four games of the series, including the first walk-off grand slam in World Series history in Game 1.\n",
      "\n",
      "The Dodgers and Yankees entered the 2024 MLB postseason as the top seeds in their respective leagues. The Dodgers had home-field advantage in the series due to their better regular season win-loss record. It was the 12th time in the Dodgers–Yankees rivalry that the teams have met in the World Series, but only the first instance since 1981.\n",
      "\n",
      "The teams had previously faced each other at least once per decade from the 1940s through the 1980s. The Yankees held a 6–1 edge in the World Series rivalry during the Brooklyn Dodgers/Subway Series era, and the teams were 2–2 following the Dodgers' relocation to Los Angeles.\n",
      "\n",
      "In their 2024 World Series meeting, the Dodgers took a 3–0 series lead before losing Game 4 in New York. They would win their eighth World Series title the next day, coming back from a 5–0 deficit, a record for most runs to come from behind in a World Series clinching game.\n"
     ]
    }
   ],
   "source": [
    "def redis_vector_search_with_ranking(r, index_name: str, query_text: str, top_k: int = 10) -> list:\n",
    "    \"\"\"\n",
    "    1. Generate an embedding for the query text.\n",
    "    2. Use Redis vector similarity search (KNN) to find the top_k matches in the given index.\n",
    "    \"\"\"\n",
    "    # 1. Generate a query embedding\n",
    "    query_embedding = get_embedding(query_text)  # Must return list[float]\n",
    "    \n",
    "    # Convert embedding to float32 bytes\n",
    "    query_embedding_bytes = array.array('f', query_embedding).tobytes()\n",
    "    \n",
    "    # 2. Build the vector search query\n",
    "    #    - [KNN <top_k> @embedding $BLOB AS vector_score]\n",
    "    redis_query = f'*=>[KNN {top_k} @embedding $BLOB AS vector_score]'\n",
    "    \n",
    "    # 3. Execute the search against our index named index_name\n",
    "    #    Sort by vector_score ascending (closest match first),\n",
    "    #    and return \"page_content\" plus \"vector_score\".\n",
    "    search_result = r.ft(index_name).search(\n",
    "        Query(redis_query)\n",
    "        .sort_by(\"vector_score\")\n",
    "        .return_fields(\"page_content\", \"vector_score\")\n",
    "        .dialect(2),\n",
    "        query_params={\"BLOB\": query_embedding_bytes}\n",
    "    )\n",
    "    \n",
    "    # 4. Format the results\n",
    "    results = []\n",
    "    for doc in search_result.docs:\n",
    "        results.append({\n",
    "            \"score\": doc.vector_score,\n",
    "            \"page_content\": doc.page_content\n",
    "        })\n",
    "    return results\n",
    "# Search Cache \n",
    "search_results = redis_vector_search_with_ranking(r, INDEX_NAME, question, top_k=3)\n",
    "\n",
    "print(\"\\n=== Search Results ===\")\n",
    "for idx, res in enumerate(search_results):\n",
    "    print(f\"Result {idx+1}: (score={res['score']})\")\n",
    "\n",
    "# Aggregate the results\n",
    "search_context = \"\\n\\n\".join([res[\"page_content\"] for res in search_results])\n",
    "\n",
    "# Pass the concatenated context to our QA pipeline\n",
    "with dspy.context(lm=lm):\n",
    "    inference = answer(\n",
    "        question=question,\n",
    "        context=search_context\n",
    "    )\n",
    "\n",
    "# Print the final answer\n",
    "print(f\"Context Length: {len(search_context)}\")\n",
    "print(f\"=== LLM Inference === \\n{inference.answer}\")"
   ]
  },
  {
   "cell_type": "markdown",
   "metadata": {},
   "source": [
    "### 2. Cache/Semantic Cache\n",
    "\n",
    "A **local cache** can significantly improve response time for frequent queries. Storing previously retrieved results in a cache reduces the need for repeated retrievals, thus speeding up response generation. A **semantic cache** leverages embeddings to cache similar queries, allowing for efficient reuse of previously retrieved information.\n",
    "\n",
    "**AWS Service**: **Amazon ElastiCache** can be used to set up an in-memory data store (using Redis or Memcached) to cache frequently accessed data.\n"
   ]
  },
  {
   "cell_type": "code",
   "execution_count": 12,
   "metadata": {},
   "outputs": [],
   "source": [
    "# https://redis.io/docs/latest/integrate/redisvl/user-guide/semantic-caching/\n",
    "from redisvl.extensions.llmcache import SemanticCache\n",
    "\n",
    "llmcache = SemanticCache(\n",
    "    name=f\"idx_{uuid.uuid4().hex}\",      # underlying search index name\n",
    "    prefix=\"llmcache\",                   # redis key prefix for hash entries\n",
    "    redis_url=\"redis://localhost:6379\",  # redis connection url string\n",
    "    distance_threshold=0.1               # semantic cache distance threshold\n",
    ")\n",
    "\n"
   ]
  },
  {
   "cell_type": "code",
   "execution_count": 13,
   "metadata": {},
   "outputs": [
    {
     "name": "stdout",
     "output_type": "stream",
     "text": [
      "The Los Angeles Dodgers won the 2024 MLB World Series.\n"
     ]
    },
    {
     "data": {
      "text/plain": [
       "'llmcache:446550d10775e88856ac5ff9bf067af5a44aae998b191140b57598fe164859d1'"
      ]
     },
     "execution_count": 13,
     "metadata": {},
     "output_type": "execute_result"
    }
   ],
   "source": [
    "with dspy.context(lm=lm):\n",
    "\n",
    "    inference = answer(\n",
    "        question=question,\n",
    "        context=simple_context[0].page_content\n",
    "    )\n",
    "\n",
    "print(inference.answer)\n",
    "\n",
    "# Cache the question, answer, and arbitrary metadata\n",
    "llmcache.store(\n",
    "    prompt=question,\n",
    "    response=inference.answer,\n",
    "    metadata={\"context\": simple_context[0].page_content}\n",
    ")"
   ]
  },
  {
   "cell_type": "code",
   "execution_count": 14,
   "metadata": {},
   "outputs": [
    {
     "name": "stdout",
     "output_type": "stream",
     "text": [
      "[Cache Hit] Q: 'Which team won the 2024 MLB World Series?'\n",
      "Answer: Yes\n",
      "\n",
      "[Cache Hit] Q: 'Who emerged victorious in the 2024 MLB World Series?'\n",
      "Answer: Yes\n",
      "\n",
      "[Cache Hit] Q: 'What team took home the 2024 World Series championship?'\n",
      "Answer: Yes\n",
      "\n",
      "[Cache Miss] No match in cache for Q: 'Who won the Superbowl in 2024?'\n",
      "\n"
     ]
    }
   ],
   "source": [
    "questions_list = [\n",
    "    \"Which team won the 2024 MLB World Series?\",\n",
    "    \"Who emerged victorious in the 2024 MLB World Series?\",\n",
    "    \"What team took home the 2024 World Series championship?\",\n",
    "    \"Who won the Superbowl in 2024?\",\n",
    "]\n",
    "\n",
    "for q in questions_list:\n",
    "    cached_response = llmcache.check(prompt=q)\n",
    "    if cached_response:\n",
    "        print(f\"[Cache Hit] Q: '{q}'\\nAnswer: Yes\\n\")\n",
    "    else:\n",
    "        print(f\"[Cache Miss] No match in cache for Q: '{q}'\\n\")"
   ]
  }
 ],
 "metadata": {
  "kernelspec": {
   "display_name": ".venv",
   "language": "python",
   "name": "python3"
  },
  "language_info": {
   "codemirror_mode": {
    "name": "ipython",
    "version": 3
   },
   "file_extension": ".py",
   "mimetype": "text/x-python",
   "name": "python",
   "nbconvert_exporter": "python",
   "pygments_lexer": "ipython3",
   "version": "3.12.7"
  }
 },
 "nbformat": 4,
 "nbformat_minor": 2
}
